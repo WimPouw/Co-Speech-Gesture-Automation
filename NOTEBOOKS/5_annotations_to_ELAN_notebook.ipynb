{
 "cells": [
  {
   "cell_type": "markdown",
   "metadata": {},
   "source": [
    "# <strong>5: ELAN Annotation Notebook |</strong>\n"
   ]
  },
  {
   "cell_type": "markdown",
   "metadata": {},
   "source": [
    "### <strong>Requirements</strong>\n",
    "\n",
    "To run this notebook, you will need the following Python packages:\n",
    "\n",
    "- pandas"
   ]
  },
  {
   "cell_type": "code",
   "execution_count": null,
   "metadata": {},
   "outputs": [],
   "source": [
    "import os\n",
    "import pandas as pd"
   ]
  },
  {
   "cell_type": "code",
   "execution_count": null,
   "metadata": {},
   "outputs": [],
   "source": [
    "input_directory = '/n/kfranich_speech_l3/Lab/6000_EMA/processed_articulatory_data/video_processing/final_apexes/SN6014_ARTGEST_ENG_VIDAUD/'  # Replace with your directory path\n",
    "output_directory = '/n/kfranich_speech_l3/Lab/6000_EMA/processed_articulatory_data/video_processing/elan_importable_annotations/SN6014_ARTGEST_ENG/'  # Replace with your desired output directory"
   ]
  },
  {
   "cell_type": "markdown",
   "metadata": {},
   "source": [
    "### <strong>Export Apex Annotations</strong>"
   ]
  },
  {
   "cell_type": "code",
   "execution_count": null,
   "metadata": {},
   "outputs": [],
   "source": [
    "# Iterate through all CSV files in the directory\n",
    "for filename in os.listdir(input_directory):\n",
    "    if filename.endswith('.csv'):\n",
    "        # Read the CSV file\n",
    "        file_path = os.path.join(input_directory, filename)\n",
    "        apex_df = pd.read_csv(file_path)\n",
    "\n",
    "        apex_df['change_points'] = apex_df['apex'].shift(1) != apex_df['apex']\n",
    "        apex_df['time_ms'] = apex_df['time_ms'] / 1000\n",
    "        grouped_apex_df = apex_df.groupby((apex_df['change_points']).cumsum())\n",
    "        apex_df = pd.DataFrame({\n",
    "            'Begin Time': grouped_apex_df['time_ms'].first(),\n",
    "            'End Time': grouped_apex_df['time_ms'].last(),\n",
    "            'apex': grouped_apex_df['apex'].first(),\n",
    "        })\n",
    "        apex_df = apex_df.dropna(subset=['apex'])\n",
    "        apex_df = apex_df[apex_df['apex'] != 0]\n",
    "        apex_df['End Time'] = apex_df['End Time'] + 0.033\n",
    "\n",
    "        # Save the modified DataFrame\n",
    "        output_file_path = os.path.join(output_directory, filename.split('.')[0] + '_elan_apexes.csv')\n",
    "        apex_df.to_csv(output_file_path, index=False)"
   ]
  },
  {
   "cell_type": "code",
   "execution_count": null,
   "metadata": {},
   "outputs": [],
   "source": [
    "apex_df.head(20)"
   ]
  }
 ],
 "metadata": {
  "kernelspec": {
   "display_name": "Python [conda env:kfranich_lab]",
   "language": "python",
   "name": "conda-env-kfranich_lab-py"
  },
  "language_info": {
   "codemirror_mode": {
    "name": "ipython",
    "version": 3
   },
   "file_extension": ".py",
   "mimetype": "text/x-python",
   "name": "python",
   "nbconvert_exporter": "python",
   "pygments_lexer": "ipython3",
   "version": "3.11.6"
  }
 },
 "nbformat": 4,
 "nbformat_minor": 4
}
