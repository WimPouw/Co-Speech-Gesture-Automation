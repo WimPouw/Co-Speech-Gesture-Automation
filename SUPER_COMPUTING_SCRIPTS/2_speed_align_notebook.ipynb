{
 "cells": [
  {
   "cell_type": "markdown",
   "id": "92a49392",
   "metadata": {},
   "source": [
    "# <strong><u>2: Speed and Upsample Notebook |</u></strong>\n",
    "\n",
    "This notebook is designed for speed alignment and data up-sampling in gesture analysis. It uses Python libraries like Pandas for data management, NumPy for numerical operations, and Matplotlib for plotting.\n",
    "\n",
    "In this workflow, the notebook reads in keypoint data from a pickled DataFrame and performs operations to align speed and possibly upsample the data.\n",
    "\n",
    "### <strong>Requirements</strong>\n",
    "\n",
    "To run this notebook, you will need the following Python packages:\n",
    "\n",
    "- pandas\n",
    "- numpy\n",
    "- scipy\n",
    "- matplotlib\n",
    "\n",
    "You can install these packages using pip:\n",
    "/```shell\n",
    "    pip install pandas numpy scipy matplotlib\n",
    "/```\n",
    "\n",
    "### <strong>Key Variables and Functions</strong>\n",
    "- `KEYPOINT`: Variable specifying which keypoint (e.g., \"right_wrist\") to focus on\n",
    "- `keypoints_df`: DataFrame storing keypoint data\n"
   ]
  },
  {
   "cell_type": "markdown",
   "id": "3ee46c5d",
   "metadata": {},
   "source": [
    "\n",
    "### <strong>Importing Libraries</strong>\n",
    "- `pandas`: For DataFrame operations and data analysis\n",
    "- `numpy`: For numerical computations\n",
    "- `scipy`: For scientific computations, including filtering\n",
    "- `matplotlib`: For plotting and visualizations\n"
   ]
  },
  {
   "cell_type": "code",
   "execution_count": 9,
   "id": "25bc7b51",
   "metadata": {},
   "outputs": [],
   "source": [
    "import pandas as pd\n",
    "import numpy as np\n",
    "from scipy.signal import savgol_filter\n",
    "import matplotlib.pyplot as plt"
   ]
  },
  {
   "cell_type": "markdown",
   "id": "408c75fd",
   "metadata": {},
   "source": [
    "### <strong>Choosing The Right Keypoints</strong>\n",
    "\n",
    "Using this script, we can isolate the keypoints with which we would like to perform the analyses on. Below is the index of Keypoints defined in mediapipe:\n",
    "\n",
    "<figure>\n",
    "    <img src=\"https://developers.google.com/static/mediapipe/images/solutions/pose_landmarks_index.png\" width=25% height=25%\n",
    "         alt=\"Keypoint Index\">\n",
    "    <figcaption>Mediapipe Pose Keypoint Index</figcaption>\n",
    "</figure>\n",
    "\n",
    "\n",
    "Luckily, we have created a dictionary of the keypoints and can now refer to them by their name instead of the number its been asigned.\n",
    "\n",
    "### <center><strong><u>Available Keypoints:</u></strong></center>\n",
    "<table>\n",
    "  <tr>\n",
    "    <td>right_wrist</td>\n",
    "    <td>left_wrist</td>\n",
    "    <td>right_elbow</td>\n",
    "    <td>left_elbow</td>\n",
    "    <td>nose</td>\n",
    "  </tr>\n",
    "  <tr>\n",
    "    <td>right_shoulder</td>\n",
    "    <td>left_shoulder</td>\n",
    "    <td>right_eye</td>\n",
    "    <td>left_eye</td>\n",
    "  </tr>\n",
    "</table>\n"
   ]
  },
  {
   "cell_type": "code",
   "execution_count": null,
   "id": "84cfe298",
   "metadata": {},
   "outputs": [],
   "source": [
    "PARTICIPANT = \"5003_I_board_one\"\n",
    "KEYPOINT = \"right_wrist\""
   ]
  },
  {
   "cell_type": "markdown",
   "id": "38721ba6",
   "metadata": {},
   "source": [
    "### <strong>Load Data</strong>\n",
    "In this section, the data is loaded into the notebook for further processing. You can adjust the source file paths as needed."
   ]
  },
  {
   "cell_type": "code",
   "execution_count": null,
   "id": "d67d7293",
   "metadata": {},
   "outputs": [],
   "source": [
    "# Load keypoint data\n",
    "keypoints_df = pd.read_csv(f'C:/Users/cosmo/Desktop/Random Scripts/Co-Speech Gesture Automation/Co-Speech-Gesture-Automation/MOTION_TRACKING_FILES/' + PARTICIPANT + '_keypoints.csv')\n",
    "# Convert keypoints data to DataFrame\n",
    "keypoints_df = pd.DataFrame(keypoints_df)\n",
    "keypoints_df = keypoints_df.loc[:, ['time_ms', KEYPOINT + '_x', KEYPOINT + '_y', ]]\n",
    "# Show keypoint data\n",
    "keypoints_df"
   ]
  },
  {
   "cell_type": "markdown",
   "id": "d90ae685",
   "metadata": {},
   "source": [
    "### <strong>Calculate Unsmoothed Speed</strong>\n",
    "Here, the speed of the right wrist is calculated without any smoothing. Parameters such as the sampling rate can be adjusted."
   ]
  },
  {
   "cell_type": "code",
   "execution_count": null,
   "id": "63960a4b",
   "metadata": {},
   "outputs": [],
   "source": [
    "# Calculate the unsmoothed speed of the right wrist\n",
    "keypoints_df['delta_time'] = keypoints_df['time_ms'].diff()\n",
    "keypoints_df['delta_x'] = keypoints_df[KEYPOINT + '_x'].diff()\n",
    "keypoints_df['delta_y'] = keypoints_df[KEYPOINT + '_y'].diff()\n",
    "\n",
    "# Speed = sqrt(delta_x^2 + delta_y^2) / delta_time\n",
    "keypoints_df['speed_unsmooth'] = np.sqrt(keypoints_df['delta_x']**2 + keypoints_df['delta_y']**2) / (keypoints_df['delta_time'] / 1000)  # in unit/s"
   ]
  },
  {
   "cell_type": "markdown",
   "id": "0c6a58cb",
   "metadata": {},
   "source": [
    "### <strong>Apply Savitzky-Golay Filtering</strong>\n",
    "The Savitzky-Golay filtering method is applied to smooth the speed data. You can adjust the window size and polynomial order.\n",
    "\n",
    "This code block is used to smooth the values in the `speed_unsmooth` column of a Pandas DataFrame called `keypoints_df`. The first line of code sets any values in the `speed_unsmooth` column that are below the 20th percentile to 0, effectively removing any low-speed outliers from the data. The second line of code applies a Savitzky-Golay filter to the `speed_unsmooth` column with a window size of 9 and a polynomial order of 2, and stores the smoothed values in a new column called `speed_smooth`.\n",
    "\n",
    "The `np.percentile()` function is used to calculate the 20th percentile of the `speed_unsmooth` column, which is used as the threshold for removing low-speed outliers. The `savgol_filter()` function is used to apply a Savitzky-Golay filter to the `speed_unsmooth` column, which is a type of smoothing filter that can be used to remove noise from data while preserving important features such as peaks and valleys.\n",
    "\n",
    "Overall, this code block is used to smooth the values in the `speed_unsmooth` column of a DataFrame using a Savitzky-Golay filter, and remove low-speed outliers from the data. Possible ways to improve the code include adding comments to explain the purpose of each line of code, and using more descriptive variable names."
   ]
  },
  {
   "cell_type": "code",
   "execution_count": null,
   "id": "613494ed",
   "metadata": {},
   "outputs": [],
   "source": [
    "keypoints_df['speed_smooth'] = [0 if x < np.percentile(keypoints_df['speed_unsmooth'], 20) else x for x in keypoints_df['speed_unsmooth']]\n",
    "keypoints_df['speed_smooth'] = savgol_filter(keypoints_df['speed_unsmooth'], 9, 2)\n",
    "keypoints_df"
   ]
  },
  {
   "cell_type": "markdown",
   "id": "fb6d93cf",
   "metadata": {},
   "source": [
    "### <strong>Align Speed Data with Pitch Data</strong>\n",
    "This section aligns the calculated speed data with the pitch data. Any time offsets or scaling factors can be adjusted here."
   ]
  },
  {
   "cell_type": "code",
   "execution_count": null,
   "id": "88774f98",
   "metadata": {},
   "outputs": [],
   "source": [
    "# Upsample the speed data to match the 10 ms sample rate of the pitch data\n",
    "keypoints_df['time_ms'] = pd.to_timedelta(keypoints_df['time_ms'], unit='ms')\n",
    "keypoints_df = keypoints_df.set_index('time_ms')\n",
    "keypoints_df_upsampled = keypoints_df.resample('10ms').mean().interpolate(method='linear')\n",
    "\n",
    "# Convert the datetime index to integer format\n",
    "keypoints_df_upsampled.index = (keypoints_df_upsampled.index - keypoints_df_upsampled.index[0]).total_seconds() * 1000\n",
    "\n",
    "# Merge the upsampled speed data with the pitch data\n",
    "aligned_df = keypoints_df_upsampled\n",
    "\n",
    "# Drop unnecessary columns\n",
    "aligned_df = aligned_df.drop(columns=['delta_time', 'delta_x', 'delta_y'])"
   ]
  },
  {
   "cell_type": "markdown",
   "id": "189620dc",
   "metadata": {},
   "source": [
    "### <strong>Save Aligned Data as CSV</strong>\n",
    "Finally, the aligned data is saved as a CSV file. You can specify the destination path for the output file."
   ]
  },
  {
   "cell_type": "code",
   "execution_count": null,
   "id": "e5381edd",
   "metadata": {},
   "outputs": [],
   "source": [
    "# Save the aligned data as a CSV file\n",
    "aligned_df['time_ms'] = pd.to_numeric(aligned_df.index)\n",
    "aligned_df.to_csv(f'C:/Users/cosmo/Desktop/Random Scripts/Co-Speech Gesture Automation/Co-Speech-Gesture-Automation/SPEED_FILES/'+ PARTICIPANT + '_' + KEYPOINT + '_processed_data.csv', index=False)\n",
    "aligned_df.head()"
   ]
  },
  {
   "cell_type": "markdown",
   "id": "9a690515",
   "metadata": {},
   "source": [
    "### <strong>Plot Data</strong>\n",
    "\n",
    "The `plot()` function is used to plot the unsmoothed and smoothed speed over time. The `label` parameter is used to set the legend label for each line. The `color` parameter is used to set the color of each line.\n",
    "\n"
   ]
  },
  {
   "cell_type": "code",
   "execution_count": null,
   "id": "92c1747e",
   "metadata": {},
   "outputs": [],
   "source": [
    "# Create a plot\n",
    "fig, ax1 = plt.subplots(figsize=(15, 6))\n",
    "\n",
    "# Plot unsmoothed and smoothed speed\n",
    "ax1.set_xlabel('Time (ms)')\n",
    "ax1.set_ylabel('Speed (px/ms)', color='tab:blue')\n",
    "ax1.plot(aligned_df['time_ms'], aligned_df['speed_unsmooth'], label='Unsmoothed Speed', color='tab:blue')\n",
    "ax1.plot(aligned_df['time_ms'], aligned_df['speed_smooth'], label='Smoothed Speed', color='tab:cyan')\n",
    "ax1.tick_params(axis='y', labelcolor='tab:blue')\n",
    "\n",
    "# Add title and legend\n",
    "plt.title('Unsmoothed Speed and Smoothed Speed Over Time')\n",
    "ax1.legend(loc='upper left')\n",
    "\n",
    "plt.show()"
   ]
  }
 ],
 "metadata": {
  "kernelspec": {
   "display_name": "Python 3",
   "language": "python",
   "name": "python3"
  },
  "language_info": {
   "codemirror_mode": {
    "name": "ipython",
    "version": 3
   },
   "file_extension": ".py",
   "mimetype": "text/x-python",
   "name": "python",
   "nbconvert_exporter": "python",
   "pygments_lexer": "ipython3",
   "version": "3.10.11"
  }
 },
 "nbformat": 4,
 "nbformat_minor": 5
}
