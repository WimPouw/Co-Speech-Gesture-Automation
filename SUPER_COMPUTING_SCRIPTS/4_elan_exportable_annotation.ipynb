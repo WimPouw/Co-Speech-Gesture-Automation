{
 "cells": [
  {
   "cell_type": "markdown",
   "metadata": {},
   "source": [
    "# <strong>Gesture Annotation Notebook |</strong>\n",
    "\n",
    "##### <strong>Author:</strong> <u>Walter Dych</u> <em>(walterpdych@gmail.com)</em>\n",
    "##### <strong>Edits/Documentation:</strong> <u>Karee Garvin</u> <em>(kgarvin@fas.harvard.edu)</em>\n",
    "\n"
   ]
  },
  {
   "cell_type": "code",
   "execution_count": null,
   "metadata": {},
   "outputs": [],
   "source": [
    "import pandas as pd"
   ]
  },
  {
   "cell_type": "markdown",
   "metadata": {},
   "source": [
    "### <strong>Export Gesture Phase Annotations</strong>"
   ]
  },
  {
   "cell_type": "code",
   "execution_count": null,
   "metadata": {},
   "outputs": [],
   "source": [
    "phase_df = pd.read_csv(\"C:/Users/cosmo/Desktop/Random Scripts/Co-Speech Gesture Automation/Co-Speech-Gesture-Automation/ANNOTATIONS/5003_I_right_wrist_annotations.csv\")\n",
    "\n",
    "# Identify change points for phase\n",
    "phase_df['change_points'] = phase_df['phase'].shift(1) != phase_df['phase']\n",
    "phase_df['time_ms'] = phase_df['time_ms'] / 1000\n",
    "\n",
    "# Group by change points and calculate 'Begin Time' and 'End Time'\n",
    "grouped_df = phase_df.groupby((phase_df['change_points']).cumsum())\n",
    "gphase_df = pd.DataFrame({\n",
    "    'Begin Time': grouped_df['time_ms'].first(),\n",
    "    'End Time': grouped_df['time_ms'].last(),\n",
    "    'Gesture Phase': grouped_df['phase'].first(),\n",
    "})\n",
    "\n",
    "# Add 10ms to 'End Time'\n",
    "gphase_df['End Time'] = gphase_df['End Time'] + 0.01  # convert 10ms to seconds\n",
    "\n",
    "gphase_df.to_csv(\"C:/Users/cosmo/Desktop/Random Scripts/Co-Speech Gesture Automation/Co-Speech-Gesture-Automation/ANNOTATIONS/5003_I_right_wrist_phase_elan_annotations.csv\", index=False)"
   ]
  },
  {
   "cell_type": "markdown",
   "metadata": {},
   "source": [
    "### <strong>Export Apex Annotations</strong>"
   ]
  },
  {
   "cell_type": "code",
   "execution_count": null,
   "metadata": {},
   "outputs": [],
   "source": [
    "apex_df = pd.read_csv('C:/Users/cosmo/Desktop/Random Scripts/Co-Speech Gesture Automation/Co-Speech-Gesture-Automation/ANNOTATIONS/5003_I_right_wrist_annotations.csv')\n",
    "\n",
    "# Identify change points for apex\n",
    "apex_df['change_points'] = apex_df['apex'].shift(1) != apex_df['apex']\n",
    "apex_df['time_ms'] = apex_df['time_ms'] / 1000\n",
    "\n",
    "# Group by change points and calculate 'Begin Time' and 'End Time'\n",
    "groupedapex_df = apex_df.groupby((apex_df['change_points']).cumsum())\n",
    "apex_df = pd.DataFrame({\n",
    "    'Begin Time': groupedapex_df['time_ms'].first(),\n",
    "    'End Time': groupedapex_df['time_ms'].last(),\n",
    "    'apex': groupedapex_df['apex'].first(),\n",
    "})\n",
    "\n",
    "# Add 10ms to 'End Time'\n",
    "apex_df['End Time'] = apex_df['End Time'] + 0.01  # convert 10ms to seconds\n",
    "\n",
    "apex_df.to_csv('C:/Users/cosmo/Desktop/Random Scripts/Co-Speech Gesture Automation/Co-Speech-Gesture-Automation/ANNOTATIONS/5003_I_right_wrist_apex_elan_annotations.csv', index=False)"
   ]
  }
 ],
 "metadata": {
  "kernelspec": {
   "display_name": "Python 3",
   "language": "python",
   "name": "python3"
  },
  "language_info": {
   "codemirror_mode": {
    "name": "ipython",
    "version": 3
   },
   "file_extension": ".py",
   "mimetype": "text/x-python",
   "name": "python",
   "nbconvert_exporter": "python",
   "pygments_lexer": "ipython3",
   "version": "3.10.11"
  }
 },
 "nbformat": 4,
 "nbformat_minor": 2
}
