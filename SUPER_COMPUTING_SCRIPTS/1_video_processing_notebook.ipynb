{
 "cells": [
  {
   "cell_type": "markdown",
   "id": "9a077198",
   "metadata": {},
   "source": [
    "# Video Processing Notebook Guide\n",
    "This notebook serves the purpose of video processing using various computational techniques."
   ]
  },
  {
   "cell_type": "markdown",
   "id": "6c9ddf29",
   "metadata": {},
   "source": [
    "## Importing Libraries\n",
    "Here, we import essential libraries:\n",
    "- `cv2`: OpenCV for image and video processing\n",
    "- `mediapipe`: Google\"s MediaPipe for pose estimation\n",
    "- `os`: For operating system related tasks\n",
    "- `pandas`: For DataFrame support"
   ]
  },
  {
   "cell_type": "code",
   "execution_count": null,
   "id": "ca871f24",
   "metadata": {},
   "outputs": [],
   "source": [
    "import cv2\n",
    "import mediapipe as mp\n",
    "import os\n",
    "import pandas as pd"
   ]
  },
  {
   "cell_type": "markdown",
   "id": "2ed58070",
   "metadata": {},
   "source": [
    "## Setting Parameters\n",
    "In this section, you can modify the following parameters:\n",
    "- `MODEL`: Choose between Lite model (`1`) and Full model (`2`). Lite Model (`1`) is the  `Default`.\n",
    "- `video_path`: Path to the video file."
   ]
  },
  {
   "cell_type": "code",
   "execution_count": null,
   "id": "056b65dd",
   "metadata": {},
   "outputs": [],
   "source": [
    "MODEL = 2  # 1 = Lite model, 2 = Full model\n",
    "video_path = \"C:/Users/cosmo/Desktop/Random Scripts/Co-Speech Gesture Automation/Co-Speech-Gesture-Automation/VIDEO_FILES/5012_I.MOV\"  # Add your video file path here\n",
    "\n",
    "if os.path.exists(video_path) == True:\n",
    "    print(f\"{video_path} is a valid file. Proceed with processing.\")\n",
    "\n",
    "else:\n",
    "    raise ValueError(f\"{video_path} does not exist. Try adding the entire file path.\")"
   ]
  },
  {
   "cell_type": "markdown",
   "id": "4db1e2c4",
   "metadata": {},
   "source": [
    "## Initialization\n",
    "This part initializes MediaPipe components used in the notebook."
   ]
  },
  {
   "cell_type": "code",
   "execution_count": null,
   "id": "34058d51",
   "metadata": {},
   "outputs": [],
   "source": [
    "# Initialize MediaPipe components\n",
    "mp_drawing = mp.solutions.drawing_utils\n",
    "mp_holistic = mp.solutions.holistic"
   ]
  },
  {
   "cell_type": "markdown",
   "id": "ca3130a9",
   "metadata": {},
   "source": [
    "## Processing Loop\n",
    "The core logic of video processing is performed in this loop."
   ]
  },
  {
   "cell_type": "code",
   "execution_count": null,
   "id": "baa76350",
   "metadata": {},
   "outputs": [],
   "source": [
    "print(f\"Processing video at {video_path}\")\n",
    "with mp_holistic.Holistic(static_image_mode=False, model_complexity=MODEL) as holistic:\n",
    "    # Initialize DataFrame to store data\n",
    "    data = []\n",
    "    cap = cv2.VideoCapture(video_path)\n",
    "    while cap.isOpened():\n",
    "        ret, image = cap.read()\n",
    "        \n",
    "        if not ret:\n",
    "            print(\"Ignoring empty camera frame.\")\n",
    "            break\n",
    "\n",
    "        image = cv2.cvtColor(image, cv2.COLOR_BGR2RGB)\n",
    "        results = holistic.process(image)\n",
    "        # Append data to list\n",
    "        time_ms = cap.get(cv2.CAP_PROP_POS_MSEC)\n",
    "        if results.pose_landmarks is not None:\n",
    "            right_wrist_x = results.pose_landmarks.landmark[mp_holistic.PoseLandmark.RIGHT_WRIST].x\n",
    "            right_wrist_y = results.pose_landmarks.landmark[mp_holistic.PoseLandmark.RIGHT_WRIST].y\n",
    "            data.append([time_ms, right_wrist_x, right_wrist_y])    \n",
    "\n",
    "        # Video read error\n",
    "        if not cap.isOpened():\n",
    "            print(f\"Error reading video file {video_path}, try adding full directory to path\")\n",
    "\n",
    "        # print(f\"Processed frame at {time_ms}ms\")\n",
    "    cap.release()"
   ]
  },
  {
   "cell_type": "code",
   "execution_count": null,
   "id": "ada8edb7",
   "metadata": {},
   "outputs": [],
   "source": [
    "# Convert to DataFrame\n",
    "df = pd.DataFrame(data, columns=[\"time_ms\", \"right_wrist_x\", \"right_wrist_y\"])\n",
    "df"
   ]
  },
  {
   "cell_type": "markdown",
   "id": "691108d0",
   "metadata": {},
   "source": [
    "## Data Output\n",
    "Finally, the processed data is stored in a DataFrame and saved as a pickle file and csv file."
   ]
  },
  {
   "cell_type": "code",
   "execution_count": null,
   "id": "a626cf36",
   "metadata": {},
   "outputs": [],
   "source": [
    "# Print DataFrame shape\n",
    "print(f\"DataFrame Head: {df.head()}\")\n",
    "\n",
    "# # Save DataFrame as pickle file\n",
    "# pickle_file_name = \"C:/Users/cosmo/Desktop/Random Scripts/Co-Speech Gesture Automation/Co-Speech-Gesture-Automation/MOTION_TRACKING_FILES/\" + os.path.splitext(os.path.basename(video_path))[0] + \"_keypoints.pkl\"\n",
    "# df.to_pickle(pickle_file_name)\n",
    "# print(f\"DataFrame saved as {pickle_file_name}\")\n",
    "\n",
    "# Save DataFrame as CSV file\n",
    "csv_file_name = \"C:/Users/cosmo/Desktop/Random Scripts/Co-Speech Gesture Automation/Co-Speech-Gesture-Automation/MOTION_TRACKING_FILES/\" + os.path.splitext(os.path.basename(video_path))[0] + \"_keypoints.csv\"\n",
    "df.to_csv(csv_file_name, index=False)\n",
    "print(f\"DataFrame saved as {csv_file_name}\")"
   ]
  }
 ],
 "metadata": {
  "kernelspec": {
   "display_name": "Python 3",
   "language": "python",
   "name": "python3"
  },
  "language_info": {
   "codemirror_mode": {
    "name": "ipython",
    "version": 3
   },
   "file_extension": ".py",
   "mimetype": "text/x-python",
   "name": "python",
   "nbconvert_exporter": "python",
   "pygments_lexer": "ipython3",
   "version": "3.10.11"
  }
 },
 "nbformat": 4,
 "nbformat_minor": 5
}
