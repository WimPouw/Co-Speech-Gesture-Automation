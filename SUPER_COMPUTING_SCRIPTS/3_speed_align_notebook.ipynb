{
 "cells": [
  {
   "cell_type": "markdown",
   "id": "92a49392",
   "metadata": {},
   "source": [
    "# Speed and Alignment Notebook Guide\n",
    "This notebook focuses on calculating the speed of the right wrist and aligning it with pitch data."
   ]
  },
  {
   "cell_type": "markdown",
   "id": "7849c1bd",
   "metadata": {},
   "source": [
    "## Load Data\n",
    "In this section, the data is loaded into the notebook for further processing. You can adjust the source file paths as needed."
   ]
  },
  {
   "cell_type": "code",
   "execution_count": null,
   "id": "25bc7b51",
   "metadata": {},
   "outputs": [],
   "source": [
    "import pandas as pd\n",
    "import numpy as np\n",
    "from scipy.signal import savgol_filter\n",
    "import matplotlib.pyplot as plt"
   ]
  },
  {
   "cell_type": "code",
   "execution_count": null,
   "id": "d67d7293",
   "metadata": {},
   "outputs": [],
   "source": [
    "# Load wrist keypoint data\n",
    "keypoints_df = pd.read_pickle('C:/Users/cosmo/Desktop/Random Scripts/Co-Speech Gesture Automation/Co-Speech-Gesture-Automation/MOTION_TRACKING_FILES/5012_I_keypoints.pkl')\n",
    "\n",
    "# Load pitch data\n",
    "pitch_df = pd.read_pickle('C:/Users/cosmo/Desktop/Random Scripts/Co-Speech Gesture Automation/Co-Speech-Gesture-Automation/SOUND_FILES/5012_I_pitch.pkl')"
   ]
  },
  {
   "cell_type": "markdown",
   "id": "d90ae685",
   "metadata": {},
   "source": [
    "## Calculate Unsmoothed Speed of Right Wrist\n",
    "Here, the speed of the right wrist is calculated without any smoothing. Parameters such as the sampling rate can be adjusted."
   ]
  },
  {
   "cell_type": "code",
   "execution_count": null,
   "id": "63960a4b",
   "metadata": {},
   "outputs": [],
   "source": [
    "# Convert keypoints data to DataFrame\n",
    "keypoints_df = pd.DataFrame(keypoints_df)\n",
    "\n",
    "# Convert pitch data to DataFrame\n",
    "pitch_df = pd.DataFrame({'time_ms': pitch_df['time_ms'], 'f0': pitch_df['f0']})\n",
    "\n",
    "# Calculate the unsmoothed speed of the right wrist\n",
    "keypoints_df['delta_time'] = keypoints_df['time_ms'].diff()\n",
    "keypoints_df['delta_x'] = keypoints_df['right_wrist_x'].diff()\n",
    "keypoints_df['delta_y'] = keypoints_df['right_wrist_y'].diff()\n",
    "\n",
    "# Speed = sqrt(delta_x^2 + delta_y^2) / delta_time\n",
    "keypoints_df['speed_unsmooth'] = np.sqrt(keypoints_df['delta_x']**2 + keypoints_df['delta_y']**2) / (keypoints_df['delta_time'] / 1000)  # in unit/s\n",
    "\n",
    "# Show pitch and keypoint data\n",
    "pitch_df\n",
    "keypoints_df"
   ]
  },
  {
   "cell_type": "markdown",
   "id": "0c6a58cb",
   "metadata": {},
   "source": [
    "## Apply Savitzky-Golay Filtering\n",
    "The Savitzky-Golay filtering method is applied to smooth the speed data. You can adjust the window size and polynomial order."
   ]
  },
  {
   "cell_type": "code",
   "execution_count": null,
   "id": "613494ed",
   "metadata": {},
   "outputs": [],
   "source": [
    "keypoints_df['speed_smooth'] = [0 if x < np.percentile(keypoints_df['speed_unsmooth'], 25) else x for x in keypoints_df['speed_unsmooth']]\n",
    "keypoints_df['speed_smooth'] = savgol_filter(keypoints_df['speed_unsmooth'], 11, 1)\n",
    "keypoints_df"
   ]
  },
  {
   "cell_type": "markdown",
   "id": "fb6d93cf",
   "metadata": {},
   "source": [
    "## Align Speed Data with Pitch Data\n",
    "This section aligns the calculated speed data with the pitch data. Any time offsets or scaling factors can be adjusted here."
   ]
  },
  {
   "cell_type": "code",
   "execution_count": null,
   "id": "88774f98",
   "metadata": {},
   "outputs": [],
   "source": [
    "# Upsample the speed data to match the 10 ms sample rate of the pitch data\n",
    "keypoints_df_upsampled = keypoints_df.set_index('time_ms').reindex(range(0, int(keypoints_df['time_ms'].iloc[-1]) + 1, 10)).interpolate().reset_index()\n",
    "\n",
    "# Merge the upsampled speed data with the pitch data\n",
    "aligned_df = pd.merge(keypoints_df_upsampled, pitch_df, on='time_ms', how='inner')\n",
    "\n",
    "# Drop unnecessary columns\n",
    "aligned_df = aligned_df.drop(columns=['delta_time', 'delta_x', 'delta_y'])"
   ]
  },
  {
   "cell_type": "markdown",
   "id": "189620dc",
   "metadata": {},
   "source": [
    "## Save Aligned Data as CSV\n",
    "Finally, the aligned data is saved as a CSV file. You can specify the destination path for the output file."
   ]
  },
  {
   "cell_type": "code",
   "execution_count": null,
   "id": "e5381edd",
   "metadata": {},
   "outputs": [],
   "source": [
    "# Save the aligned data as a CSV file\n",
    "aligned_df.to_csv('C:/Users/cosmo/Desktop/Random Scripts/Co-Speech Gesture Automation/Co-Speech-Gesture-Automation/SPEED_FILES/5012_I_processed_data.csv', index=False)\n",
    "aligned_df.head()"
   ]
  },
  {
   "cell_type": "markdown",
   "id": "9a690515",
   "metadata": {},
   "source": [
    "## Plot Data\n"
   ]
  },
  {
   "cell_type": "code",
   "execution_count": null,
   "id": "92c1747e",
   "metadata": {},
   "outputs": [],
   "source": [
    "# Create a plot\n",
    "fig, ax1 = plt.subplots(figsize=(15, 6))\n",
    "\n",
    "# Plot unsmoothed and smoothed speed\n",
    "ax1.set_xlabel('Time (ms)')\n",
    "ax1.set_ylabel('Speed', color='tab:blue')\n",
    "ax1.plot(aligned_df['time_ms'], aligned_df['speed_unsmooth'], label='Unsmoothed Speed', color='tab:blue')\n",
    "ax1.plot(aligned_df['time_ms'], aligned_df['speed_smooth'], label='Smoothed Speed', color='tab:cyan')\n",
    "ax1.tick_params(axis='y', labelcolor='tab:blue')\n",
    "\n",
    "# # # Create another y-axis for the pitch data\n",
    "# ax2 = ax1.twinx()\n",
    "# ax2.set_ylabel('Pitch (f0)', color='tab:red')\n",
    "# ax2.plot(aligned_df['time_ms'], aligned_df['f0'], label='Pitch', color='tab:red')\n",
    "# ax2.tick_params(axis='y', labelcolor='tab:red')\n",
    "\n",
    "# Add title and legend\n",
    "plt.title('Unsmoothed Speed, Smoothed Speed, and Pitch over Time')\n",
    "ax1.legend(loc='upper left')\n",
    "# ax2.legend(loc='upper right')\n",
    "\n",
    "plt.show()"
   ]
  }
 ],
 "metadata": {
  "kernelspec": {
   "display_name": "Python 3",
   "language": "python",
   "name": "python3"
  },
  "language_info": {
   "codemirror_mode": {
    "name": "ipython",
    "version": 3
   },
   "file_extension": ".py",
   "mimetype": "text/x-python",
   "name": "python",
   "nbconvert_exporter": "python",
   "pygments_lexer": "ipython3",
   "version": "3.10.11"
  }
 },
 "nbformat": 4,
 "nbformat_minor": 5
}
