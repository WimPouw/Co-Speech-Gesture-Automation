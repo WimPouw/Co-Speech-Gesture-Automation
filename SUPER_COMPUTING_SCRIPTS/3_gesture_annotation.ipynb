{
 "cells": [
  {
   "cell_type": "markdown",
   "metadata": {},
   "source": [
    "# <strong>Gesture Annotation Notebook |</strong>\n",
    "\n",
    "##### <strong>Author:</strong> <u>Walter Dych</u> <em>(walterpdych@gmail.com)</em>\n",
    "##### <strong>Edits/Documentation:</strong> <u>Karee Garvin</u> <em>(kgarvin@fas.harvard.edu)</em>"
   ]
  },
  {
   "cell_type": "markdown",
   "metadata": {},
   "source": [
    "### <strong>Requirements</strong>\n",
    "- `pandas`\n",
    "- `numpy`\n",
    "- `plotly`"
   ]
  },
  {
   "cell_type": "markdown",
   "metadata": {},
   "source": [
    "### <strong>Generate Annotations</strong>\n",
    "\n",
    "The `generate_annotations` function takes a pandas DataFrame containing the time, unsmoothed speed, and smoothed speed of a gesture as input and returns a new DataFrame with additional columns that represent annotations for the gesture. The annotations are generated based on the smoothed speed of the gesture and include stroke phase annotations and apex annotations.\n",
    "\n",
    "The function first initializes several variables and then iterates over the smoothed speed data to generate the annotations. The annotations are generated using a series of if statements that check the current value of the smoothed speed and the previous value of the smoothed speed. The function also keeps track of the start and end indices of each steady phase of the gesture and calculates the index of the minimum value of the smoothed speed within each steady phase to generate the apex annotations.\n",
    "\n",
    "Finally, the function creates a new DataFrame with the annotations and maps the stroke phase annotations to 'Stroke' or 'Rest'."
   ]
  },
  {
   "cell_type": "code",
   "execution_count": null,
   "metadata": {},
   "outputs": [],
   "source": [
    "import pandas as pd\n",
    "import numpy as np\n",
    "import plotly.graph_objects as go"
   ]
  },
  {
   "cell_type": "code",
   "execution_count": null,
   "metadata": {},
   "outputs": [],
   "source": [
    "data = pd.read_csv('C:/Users/cosmo/Desktop/Random Scripts/Co-Speech Gesture Automation/Co-Speech-Gesture-Automation/SPEED_FILES/5003_I_right_wrist_processed_data.csv')\n",
    "data.head()"
   ]
  },
  {
   "cell_type": "markdown",
   "metadata": {},
   "source": [
    "### <strong>Variables</strong>\n",
    "\n",
    "- `MAX_S_LENGTH`: an integer that represents the maximum length of an 'S' stroke in the gesture.\n",
    "- `MAX_STEADY_LENGTH`: an integer that represents the maximum length of a steady phase in the gesture.\n",
    "- `THRESHOLD`: a float that represents the threshold value for the smoothed speed of the gesture.\n",
    "- `COLORS`: a dictionary that maps stroke phase annotations to RGBA color values.\n",
    "\n",
    "These variables are used in the `generate_annotations` function to generate annotations for a gesture based on the smoothed speed of the gesture. The `MAX_S_LENGTH` and `MAX_STEADY_LENGTH` variables are used to determine the maximum length of an 'S' stroke and a steady phase, respectively. The `THRESHOLD` variable is used to determine when the gesture starts or ends a stroke or enters a steady phase. The `COLORS` variable is used to map stroke phase annotations to colors for visualization purposes.\n",
    "\n",
    "Overall, this excerpt defines some important parameters for generating gesture annotations and demonstrates how variables can be defined and used in Python code."
   ]
  },
  {
   "cell_type": "code",
   "execution_count": null,
   "metadata": {},
   "outputs": [],
   "source": [
    "MAX_S_LENGTH = 100\n",
    "MAX_STEADY_LENGTH = 100\n",
    "THRESHOLD = 0.4\n",
    "COLORS = {'Stroke': 'rgba(231,107,243,0.2)', 'Rest': 'rgba(107,174,214,0.2)', '': 'rgba(255,255,255,0.2)'}"
   ]
  },
  {
   "cell_type": "code",
   "execution_count": null,
   "metadata": {},
   "outputs": [],
   "source": [
    "def generate_annotations(data): # Generate annotations based on speed_smooth data.\n",
    "    speed_smooth = list(map(float, data['speed_smooth']))\n",
    "    phase = [''] * len(speed_smooth)\n",
    "    last_stroke_type = None\n",
    "    start_index = None\n",
    "    steady_start = None\n",
    "    steady_end = None\n",
    "    apexes = [''] * len(speed_smooth)\n",
    "\n",
    "    # Iterate over the speed_smooth array to generate the annotations\n",
    "    for i in range(1, len(speed_smooth)):\n",
    "        if speed_smooth[i] > THRESHOLD and speed_smooth[i-1] <= THRESHOLD:\n",
    "            if last_stroke_type is None or last_stroke_type == 'Steady' or last_stroke_type == 'R':\n",
    "                last_stroke_type = 'Approach'\n",
    "                start_index = i\n",
    "            elif last_stroke_type == 'Approach' and i - start_index >= MAX_S_LENGTH:\n",
    "                last_stroke_type = None\n",
    "        elif speed_smooth[i] <= THRESHOLD and speed_smooth[i-1] > THRESHOLD:\n",
    "            if last_stroke_type == 'Approach':\n",
    "                last_stroke_type = 'Steady'\n",
    "                start_index = i\n",
    "                steady_start = i\n",
    "            elif last_stroke_type == 'R':\n",
    "                last_stroke_type = None\n",
    "                start_index = None\n",
    "        elif last_stroke_type == 'Steady' and speed_smooth[i] > THRESHOLD and speed_smooth[i-1] <= THRESHOLD:\n",
    "            if steady_end is not None:\n",
    "                last_stroke_type = 'R'\n",
    "                start_index = i\n",
    "\n",
    "        if last_stroke_type == 'Steady' and steady_start is None:\n",
    "            steady_start = i\n",
    "        elif steady_start is not None and last_stroke_type != 'Steady':\n",
    "            steady_end = i\n",
    "            min_speed_index = np.argmin(speed_smooth[steady_start:i]) + steady_start\n",
    "            apexes[min_speed_index] = 'AX'\n",
    "            steady_start = None\n",
    "            if speed_smooth[i] > THRESHOLD and speed_smooth[i-1] <= THRESHOLD:\n",
    "                last_stroke_type = 'R'\n",
    "                start_index = i\n",
    "        elif last_stroke_type == 'Steady' and i - start_index >= MAX_STEADY_LENGTH:\n",
    "            last_stroke_type = None\n",
    "            start_index = None\n",
    "            steady_start = None\n",
    "        phase[i] = last_stroke_type if last_stroke_type is not None else ''\n",
    "\n",
    "    data = pd.DataFrame({\n",
    "        'time_ms': data['time_ms'],\n",
    "        'speed_unsmooth': data['speed_unsmooth'],\n",
    "        'speed_smooth': data['speed_smooth'],\n",
    "        'phase': phase, \n",
    "        'apex': apexes\n",
    "    })\n",
    "\n",
    "    data['phase'] = data['phase'].apply(lambda x: 'Stroke' if x in ['Steady', 'Approach'] else ('Rest' if x == 'R' else ''))\n",
    "    return data\n",
    "\n"
   ]
  },
  {
   "cell_type": "markdown",
   "metadata": {},
   "source": [
    "### <strong>Save Data</strong>"
   ]
  },
  {
   "cell_type": "code",
   "execution_count": null,
   "metadata": {},
   "outputs": [],
   "source": [
    "data = generate_annotations(data)\n",
    "data.to_csv('C:/Users/cosmo/Desktop/Random Scripts/Co-Speech Gesture Automation/Co-Speech-Gesture-Automation/ANNOTATIONS/5003_I_right_wrist_annotations.csv', index=False)\n",
    "data.head()"
   ]
  },
  {
   "cell_type": "markdown",
   "metadata": {},
   "source": [
    "### <strong>Visualize Annotations</strong>\n",
    "The code first creates a `plotly` figure object and adds a scatter plot of the smoothed speed of the gesture over time. The code then adds rectangles to the plot to represent the stroke phases of the gesture. The rectangles are created by grouping the annotations by phase and finding the start and end times of each phase. The `COLORS` dictionary is used to map the stroke phase annotations to colors for the rectangles.\n",
    "\n",
    "The code then adds scatter plots to the figure for each stroke phase and for the apex annotations. The `COLORS` dictionary is used to set the colors of the stroke phase markers.\n",
    "\n",
    "Finally, the code updates the layout of the figure to include axis titles, a title, and a legend. The size of the figure is also set. The figure is then displayed using the `show` method."
   ]
  },
  {
   "cell_type": "code",
   "execution_count": null,
   "metadata": {},
   "outputs": [],
   "source": [
    "fig = go.Figure()\n",
    "fig.add_trace(go.Scatter(\n",
    "    x=data['time_ms'], \n",
    "    y=data['speed_smooth'], \n",
    "    mode='lines',\n",
    "    name='Speed curve'\n",
    "))\n",
    "\n",
    "data['phase_change'] = data['phase'].shift() != data['phase']\n",
    "data['Group'] = data['phase_change'].cumsum()\n",
    "interval_df = data.groupby(['Group', 'phase']).agg(Start=('time_ms', 'min'), End=('time_ms', 'max')).reset_index()\n",
    "\n",
    "shapes = []\n",
    "for _, row in interval_df.iterrows():\n",
    "    shapes.append(dict(\n",
    "        type=\"rect\",\n",
    "        xref=\"x\", yref=\"paper\",\n",
    "        x0=row['Start'], x1=row['End'],\n",
    "        y0=0, y1=1,\n",
    "        fillcolor=COLORS[row['phase']],\n",
    "        opacity=0.85,\n",
    "        layer=\"below\",\n",
    "        line_width=0,\n",
    "    ))\n",
    "\n",
    "for phase in COLORS.keys():\n",
    "    fig.add_trace(go.Scatter(\n",
    "        x=[None], y=[None],\n",
    "        mode='markers',\n",
    "        marker=dict(size=15, color=COLORS[phase]),\n",
    "        showlegend=True,\n",
    "        name=phase,\n",
    "    ))\n",
    "\n",
    "apex_df = data[data['apex'] == 'AX']\n",
    "fig.add_trace(go.Scatter(\n",
    "    x=apex_df['time_ms'], \n",
    "    y=apex_df['speed_smooth'], \n",
    "    mode='markers',\n",
    "    name='Apexes'\n",
    "))\n",
    "\n",
    "fig.update_xaxes(title_text='Time (ms)')\n",
    "fig.update_yaxes(title_text='Speed (px/ms)')\n",
    "fig.update_layout(showlegend=True, shapes=shapes)\n",
    "fig.update_layout(title_text='Smoothed Speed Curve with Annotations')\n",
    "fig.update_layout(width=1250, height=750)\n",
    "fig.show()\n"
   ]
  }
 ],
 "metadata": {
  "kernelspec": {
   "display_name": "Python 3",
   "language": "python",
   "name": "python3"
  },
  "language_info": {
   "codemirror_mode": {
    "name": "ipython",
    "version": 3
   },
   "file_extension": ".py",
   "mimetype": "text/x-python",
   "name": "python",
   "nbconvert_exporter": "python",
   "pygments_lexer": "ipython3",
   "version": "3.10.11"
  },
  "orig_nbformat": 4
 },
 "nbformat": 4,
 "nbformat_minor": 2
}
