{
 "cells": [
  {
   "cell_type": "markdown",
   "metadata": {},
   "source": [
    "# Gesture Annotation Notebook |\n",
    "\n",
    "##### <strong>Author:</strong> <u>Walter Dych</u> <em>(walterpdych@gmail.com)</em>\n",
    "##### <strong>Edits/Documentation:</strong> <u>Karee Garvin</u> <em>(kgarving@fas.harvard.edu)</em>"
   ]
  },
  {
   "cell_type": "code",
   "execution_count": null,
   "metadata": {},
   "outputs": [],
   "source": [
    "import os\n",
    "import pickle\n",
    "import pandas as pd\n",
    "import numpy as np\n",
    "import plotly.graph_objects as go"
   ]
  },
  {
   "cell_type": "code",
   "execution_count": null,
   "metadata": {},
   "outputs": [],
   "source": [
    "data = pd.read_csv('C:/Users/cosmo/Desktop/Random Scripts/Co-Speech Gesture Automation/Co-Speech-Gesture-Automation/SPEED_FILES/5012_I_processed_data.csv')\n",
    "data.head()"
   ]
  },
  {
   "cell_type": "code",
   "execution_count": null,
   "metadata": {},
   "outputs": [],
   "source": [
    "MAX_S_LENGTH = 60\n",
    "MAX_STEADY_LENGTH = 50\n",
    "THRESHOLD = 0.4\n",
    "COLORS = {'Approach': 'rgba(231,107,243,0.2)', 'Steady': 'rgba(107,174,214,0.2)', 'R': 'rgba(127,127,127,0.2)', '': 'rgba(255,255,255,0.2)'}"
   ]
  },
  {
   "cell_type": "code",
   "execution_count": null,
   "metadata": {},
   "outputs": [],
   "source": [
    "def generate_annotations(data): # Generate annotations based on speed_smooth data.\n",
    "    speed_smooth = list(map(float, data['speed_smooth']))\n",
    "    state = [''] * len(speed_smooth)\n",
    "    last_stroke_type = None\n",
    "    start_index = None\n",
    "    steady_start = None\n",
    "    steady_end = None\n",
    "    apexes = [''] * len(speed_smooth)\n",
    "\n",
    "    # Iterate over the speed_smooth array to generate the annotations\n",
    "    for i in range(1, len(speed_smooth)):\n",
    "        if speed_smooth[i] > THRESHOLD and speed_smooth[i-1] <= THRESHOLD:\n",
    "            if last_stroke_type is None or last_stroke_type == 'Steady' or last_stroke_type == 'R':\n",
    "                last_stroke_type = 'Approach'\n",
    "                start_index = i\n",
    "            elif last_stroke_type == 'Approach' and i - start_index >= MAX_S_LENGTH:\n",
    "                last_stroke_type = None\n",
    "        elif speed_smooth[i] <= THRESHOLD and speed_smooth[i-1] > THRESHOLD:\n",
    "            if last_stroke_type == 'Approach':\n",
    "                last_stroke_type = 'Steady'\n",
    "                start_index = i\n",
    "                steady_start = i\n",
    "            elif last_stroke_type == 'R':\n",
    "                last_stroke_type = None\n",
    "                start_index = None\n",
    "        elif last_stroke_type == 'Steady' and speed_smooth[i] > THRESHOLD and speed_smooth[i-1] <= THRESHOLD:\n",
    "            if steady_end is not None:\n",
    "                last_stroke_type = 'R'\n",
    "                start_index = i\n",
    "\n",
    "        if last_stroke_type == 'Steady' and steady_start is None:\n",
    "            steady_start = i\n",
    "        elif steady_start is not None and last_stroke_type != 'Steady':\n",
    "            steady_end = i\n",
    "            min_speed_index = np.argmin(speed_smooth[steady_start:i]) + steady_start\n",
    "            apexes[min_speed_index] = 'AX'\n",
    "            steady_start = None\n",
    "            if speed_smooth[i] > THRESHOLD and speed_smooth[i-1] <= THRESHOLD:\n",
    "                last_stroke_type = 'R'\n",
    "                start_index = i\n",
    "        elif last_stroke_type == 'Steady' and i - start_index >= MAX_STEADY_LENGTH:\n",
    "            last_stroke_type = None\n",
    "            start_index = None\n",
    "            steady_start = None\n",
    "        state[i] = last_stroke_type if last_stroke_type is not None else ''\n",
    "\n",
    "    data = pd.DataFrame({\n",
    "        'time_ms': data['time_ms'],\n",
    "        'speed_unsmooth': data['speed_unsmooth'],\n",
    "        'speed_smooth': data['speed_smooth'],\n",
    "        'state': state, \n",
    "        'apex': apexes\n",
    "    })\n",
    "\n",
    "    data['Gesture Phase'] = data['state'].apply(lambda x: 'S' if x in ['Steady', 'Approach'] else ('R' if x == 'R' else ''))\n",
    "    return data\n",
    "\n",
    "data.head()"
   ]
  },
  {
   "cell_type": "code",
   "execution_count": null,
   "metadata": {},
   "outputs": [],
   "source": [
    "data = generate_annotations(data)\n",
    "data.head()"
   ]
  },
  {
   "cell_type": "code",
   "execution_count": null,
   "metadata": {},
   "outputs": [],
   "source": [
    "data.to_csv('C:/Users/cosmo/Desktop/Random Scripts/Co-Speech Gesture Automation/Co-Speech-Gesture-Automation/ANNOTATIONS/5012_I_annotations.csv', index=False)"
   ]
  },
  {
   "cell_type": "code",
   "execution_count": null,
   "metadata": {},
   "outputs": [],
   "source": [
    "fig = go.Figure()\n",
    "fig.add_trace(go.Scatter(\n",
    "    x=data['time_ms'], \n",
    "    y=data['speed_smooth'], \n",
    "    mode='lines',\n",
    "    name='Speed curve'\n",
    "))\n",
    "\n",
    "data['State_Change'] = data['state'].shift() != data['state']\n",
    "data['Group'] = data['State_Change'].cumsum()\n",
    "interval_df = data.groupby(['Group', 'state']).agg(Start=('time_ms', 'min'), End=('time_ms', 'max')).reset_index()\n",
    "\n",
    "shapes = []\n",
    "for _, row in interval_df.iterrows():\n",
    "    shapes.append(dict(\n",
    "        type=\"rect\",\n",
    "        xref=\"x\", yref=\"paper\",\n",
    "        x0=row['Start'], x1=row['End'],\n",
    "        y0=0, y1=1,\n",
    "        fillcolor=COLORS[row['state']],\n",
    "        opacity=0.85,\n",
    "        layer=\"below\",\n",
    "        line_width=0,\n",
    "    ))\n",
    "\n",
    "for state in COLORS.keys():\n",
    "    fig.add_trace(go.Scatter(\n",
    "        x=[None], y=[None],\n",
    "        mode='markers',\n",
    "        marker=dict(size=15, color=COLORS[state]),\n",
    "        showlegend=True,\n",
    "        name=state,\n",
    "    ))\n",
    "\n",
    "apex_df = data[data['apex'] == 'AX']\n",
    "fig.add_trace(go.Scatter(\n",
    "    x=apex_df['time_ms'], \n",
    "    y=apex_df['speed_smooth'], \n",
    "    mode='markers',\n",
    "    name='apexes'\n",
    "))\n",
    "\n",
    "fig.update_xaxes(title_text='time')\n",
    "fig.update_yaxes(title_text='Speed (px/ms)')\n",
    "fig.update_layout(showlegend=True, shapes=shapes)\n",
    "\n",
    "fig.show()"
   ]
  }
 ],
 "metadata": {
  "kernelspec": {
   "display_name": "Python 3",
   "language": "python",
   "name": "python3"
  },
  "language_info": {
   "codemirror_mode": {
    "name": "ipython",
    "version": 3
   },
   "file_extension": ".py",
   "mimetype": "text/x-python",
   "name": "python",
   "nbconvert_exporter": "python",
   "pygments_lexer": "ipython3",
   "version": "3.10.11"
  },
  "orig_nbformat": 4
 },
 "nbformat": 4,
 "nbformat_minor": 2
}
